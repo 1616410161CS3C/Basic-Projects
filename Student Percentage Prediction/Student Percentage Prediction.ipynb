{
 "cells": [
  {
   "cell_type": "markdown",
   "id": "registered-geology",
   "metadata": {},
   "source": [
    "# Student Score Prediction"
   ]
  },
  {
   "cell_type": "markdown",
   "id": "prompt-ladder",
   "metadata": {},
   "source": [
    "### Problem Statement\n",
    "Predict the percentage of an student based on the no. of study hours."
   ]
  },
  {
   "cell_type": "markdown",
   "id": "wrapped-nightlife",
   "metadata": {},
   "source": [
    "### Regression Analysis\n",
    "It is a form of predictive modelling technique which investigates the relationship between dependent and independent variable.\n",
    "\n",
    "Model Used: ***Linear Regression***"
   ]
  },
  {
   "cell_type": "code",
   "execution_count": 37,
   "id": "significant-amino",
   "metadata": {},
   "outputs": [],
   "source": [
    "# importing library files\n",
    "\n",
    "# data manupulation\n",
    "import pandas as pd\n",
    "\n",
    "# plotting the dataset\n",
    "import seaborn as sns\n",
    "\n",
    "# dividing dataset in training and testing set\n",
    "from sklearn.model_selection import train_test_split\n",
    "\n",
    "# selection of Model\n",
    "from sklearn.linear_model import LinearRegression"
   ]
  },
  {
   "cell_type": "code",
   "execution_count": 38,
   "id": "careful-excerpt",
   "metadata": {},
   "outputs": [],
   "source": [
    "# reading data from the url\n",
    "df=pd.read_csv(\"https://raw.githubusercontent.com/AdiPersonalWorks/Random/master/student_scores%20-%20student_scores.csv\")"
   ]
  },
  {
   "cell_type": "code",
   "execution_count": 39,
   "id": "effective-dominant",
   "metadata": {},
   "outputs": [
    {
     "data": {
      "text/html": [
       "<div>\n",
       "<style scoped>\n",
       "    .dataframe tbody tr th:only-of-type {\n",
       "        vertical-align: middle;\n",
       "    }\n",
       "\n",
       "    .dataframe tbody tr th {\n",
       "        vertical-align: top;\n",
       "    }\n",
       "\n",
       "    .dataframe thead th {\n",
       "        text-align: right;\n",
       "    }\n",
       "</style>\n",
       "<table border=\"1\" class=\"dataframe\">\n",
       "  <thead>\n",
       "    <tr style=\"text-align: right;\">\n",
       "      <th></th>\n",
       "      <th>Hours</th>\n",
       "      <th>Scores</th>\n",
       "    </tr>\n",
       "  </thead>\n",
       "  <tbody>\n",
       "    <tr>\n",
       "      <th>0</th>\n",
       "      <td>2.5</td>\n",
       "      <td>21</td>\n",
       "    </tr>\n",
       "    <tr>\n",
       "      <th>1</th>\n",
       "      <td>5.1</td>\n",
       "      <td>47</td>\n",
       "    </tr>\n",
       "    <tr>\n",
       "      <th>2</th>\n",
       "      <td>3.2</td>\n",
       "      <td>27</td>\n",
       "    </tr>\n",
       "    <tr>\n",
       "      <th>3</th>\n",
       "      <td>8.5</td>\n",
       "      <td>75</td>\n",
       "    </tr>\n",
       "    <tr>\n",
       "      <th>4</th>\n",
       "      <td>3.5</td>\n",
       "      <td>30</td>\n",
       "    </tr>\n",
       "    <tr>\n",
       "      <th>5</th>\n",
       "      <td>1.5</td>\n",
       "      <td>20</td>\n",
       "    </tr>\n",
       "    <tr>\n",
       "      <th>6</th>\n",
       "      <td>9.2</td>\n",
       "      <td>88</td>\n",
       "    </tr>\n",
       "    <tr>\n",
       "      <th>7</th>\n",
       "      <td>5.5</td>\n",
       "      <td>60</td>\n",
       "    </tr>\n",
       "    <tr>\n",
       "      <th>8</th>\n",
       "      <td>8.3</td>\n",
       "      <td>81</td>\n",
       "    </tr>\n",
       "    <tr>\n",
       "      <th>9</th>\n",
       "      <td>2.7</td>\n",
       "      <td>25</td>\n",
       "    </tr>\n",
       "  </tbody>\n",
       "</table>\n",
       "</div>"
      ],
      "text/plain": [
       "   Hours  Scores\n",
       "0    2.5      21\n",
       "1    5.1      47\n",
       "2    3.2      27\n",
       "3    8.5      75\n",
       "4    3.5      30\n",
       "5    1.5      20\n",
       "6    9.2      88\n",
       "7    5.5      60\n",
       "8    8.3      81\n",
       "9    2.7      25"
      ]
     },
     "execution_count": 39,
     "metadata": {},
     "output_type": "execute_result"
    }
   ],
   "source": [
    "df.head(10)"
   ]
  },
  {
   "cell_type": "code",
   "execution_count": 70,
   "id": "rolled-amendment",
   "metadata": {},
   "outputs": [
    {
     "data": {
      "text/plain": [
       "Hours     0\n",
       "Scores    0\n",
       "dtype: int64"
      ]
     },
     "execution_count": 70,
     "metadata": {},
     "output_type": "execute_result"
    }
   ],
   "source": [
    "# already the data is clean and there are no null values but we'll check it anyway.\n",
    "\n",
    "df.isnull().sum()"
   ]
  },
  {
   "cell_type": "code",
   "execution_count": 41,
   "id": "instructional-comparative",
   "metadata": {},
   "outputs": [
    {
     "data": {
      "text/plain": [
       "<seaborn.axisgrid.FacetGrid at 0x1fb3acb4ec8>"
      ]
     },
     "execution_count": 41,
     "metadata": {},
     "output_type": "execute_result"
    },
    {
     "data": {
      "image/png": "[encoded data removed]",
      "text/plain": [
       "<Figure size 360x360 with 1 Axes>"
      ]
     },
     "metadata": {
      "needs_background": "light"
     },
     "output_type": "display_data"
    }
   ],
   "source": [
    "sns.lmplot(x='Scores', y='Hours', data=df)"
   ]
  },
  {
   "cell_type": "markdown",
   "id": "regular-decline",
   "metadata": {},
   "source": [
    "The plot shows the +ve linear relationship, as y axis(hour) increases the x axis(scores) also increases."
   ]
  },
  {
   "cell_type": "markdown",
   "id": "german-refrigerator",
   "metadata": {},
   "source": [
    "### Preparing the Data"
   ]
  },
  {
   "cell_type": "markdown",
   "id": "antique-balance",
   "metadata": {},
   "source": [
    "Dividing the data in dependent and independent variable.\n",
    "\n",
    "Here, Dependent variable(also known as ***Target Variable***): Scores\n",
    "\n",
    "Independent variable: Hours"
   ]
  },
  {
   "cell_type": "code",
   "execution_count": 71,
   "id": "cutting-poetry",
   "metadata": {},
   "outputs": [],
   "source": [
    "X=df[['Hours']]\n",
    "Y=df[['Scores']]"
   ]
  },
  {
   "cell_type": "code",
   "execution_count": 43,
   "id": "obvious-detroit",
   "metadata": {},
   "outputs": [],
   "source": [
    "# Spliting data in testing and training set\n",
    "X_train, X_test, Y_train, Y_test = train_test_split(X, Y, test_size=0.2, random_state=0)"
   ]
  },
  {
   "cell_type": "markdown",
   "id": "comparative-egyptian",
   "metadata": {},
   "source": [
    "### Training Model"
   ]
  },
  {
   "cell_type": "code",
   "execution_count": 44,
   "id": "expected-genome",
   "metadata": {},
   "outputs": [
    {
     "data": {
      "text/plain": [
       "LinearRegression(copy_X=True, fit_intercept=True, n_jobs=None, normalize=False)"
      ]
     },
     "execution_count": 44,
     "metadata": {},
     "output_type": "execute_result"
    }
   ],
   "source": [
    "lr = LinearRegression()  \n",
    "lr.fit(X_train, Y_train) "
   ]
  },
  {
   "cell_type": "markdown",
   "id": "potential-family",
   "metadata": {},
   "source": [
    "### Prediction"
   ]
  },
  {
   "cell_type": "code",
   "execution_count": 45,
   "id": "amber-gates",
   "metadata": {},
   "outputs": [],
   "source": [
    "Y_pred= lr.predict(X_test)"
   ]
  },
  {
   "cell_type": "code",
   "execution_count": null,
   "id": "angry-poison",
   "metadata": {},
   "outputs": [],
   "source": [
    "# df1 = pd.DataFrame() \n",
    "# df1['Actual']=Y_test\n",
    "# df1['Predicted']=Y_pred"
   ]
  },
  {
   "cell_type": "markdown",
   "id": "surrounded-virginia",
   "metadata": {},
   "source": [
    "### Plotting predicted and Actual values, and Score "
   ]
  },
  {
   "cell_type": "code",
   "execution_count": 74,
   "id": "configured-rendering",
   "metadata": {},
   "outputs": [
    {
     "name": "stdout",
     "output_type": "stream",
     "text": [
      "Score: 0.9454906892105356\n"
     ]
    },
    {
     "name": "stderr",
     "output_type": "stream",
     "text": [
      "C:\\ProgramData\\Anaconda3\\lib\\site-packages\\seaborn\\distributions.py:2557: FutureWarning: `distplot` is a deprecated function and will be removed in a future version. Please adapt your code to use either `displot` (a figure-level function with similar flexibility) or `kdeplot` (an axes-level function for kernel density plots).\n",
      "  warnings.warn(msg, FutureWarning)\n",
      "C:\\ProgramData\\Anaconda3\\lib\\site-packages\\seaborn\\distributions.py:2557: FutureWarning: `distplot` is a deprecated function and will be removed in a future version. Please adapt your code to use either `displot` (a figure-level function with similar flexibility) or `kdeplot` (an axes-level function for kernel density plots).\n",
      "  warnings.warn(msg, FutureWarning)\n"
     ]
    },
    {
     "data": {
      "image/png": "[encoded data removed]",
      "text/plain": [
       "<Figure size 432x288 with 1 Axes>"
      ]
     },
     "metadata": {
      "needs_background": "light"
     },
     "output_type": "display_data"
    }
   ],
   "source": [
    "ax1=sns.distplot(Y_test, hist=False, color='r', label=\"Actual\")\n",
    "sns.distplot(Y_pred, hist=False, color='b', label=\"Predicted\", ax=ax1)\n",
    "\n",
    "score1= lr.score(X_test,Y_test)\n",
    "print(\"Score:\", score1)"
   ]
  },
  {
   "cell_type": "markdown",
   "id": "balanced-alpha",
   "metadata": {},
   "source": [
    "### Prediction using User value\n",
    "\n",
    "In this prediction value for hour is given by the user and ***score is predicted using the trained algorithm.***"
   ]
  },
  {
   "cell_type": "code",
   "execution_count": 67,
   "id": "described-separate",
   "metadata": {},
   "outputs": [
    {
     "name": "stdout",
     "output_type": "stream",
     "text": [
      "9.25\n",
      "[[93.69173249]]\n"
     ]
    }
   ],
   "source": [
    "i= float(input())\n",
    "print(lr.predict([[i]]))"
   ]
  }
 ],
 "metadata": {
  "kernelspec": {
   "display_name": "Python 3",
   "language": "python",
   "name": "python3"
  },
  "language_info": {
   "codemirror_mode": {
    "name": "ipython",
    "version": 3
   },
   "file_extension": ".py",
   "mimetype": "text/x-python",
   "name": "python",
   "nbconvert_exporter": "python",
   "pygments_lexer": "ipython3",
   "version": "3.7.6"
  }
 },
 "nbformat": 4,
 "nbformat_minor": 5
}
